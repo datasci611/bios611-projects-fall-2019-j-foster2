{
 "cells": [
  {
   "cell_type": "code",
   "execution_count": null,
   "metadata": {},
   "outputs": [],
   "source": [
    "%%bash \n",
    "\n",
    "pwd"
   ]
  },
  {
   "cell_type": "code",
   "execution_count": 103,
   "metadata": {},
   "outputs": [],
   "source": [
    "\"\"\"\n",
    "Modified: 2019-12-01\n",
    "This script pulls down the ENTRY_EXIT_191102.tsv file form BIOS611 github\n",
    "Calculates the time spent in UMD shelter (days).\n",
    "\n",
    "\"\"\"\n",
    "\n",
    "import pandas as pd\n",
    "import numpy as np\n",
    "\n",
    "# Download the ENTRY_EXIT_191102.tsv place it in Pandas dataFrame\n",
    "url = 'https://raw.githubusercontent.com/biodatascience/datasci611/gh-pages/data/project2_2019/ENTRY_EXIT_191102.tsv'\n",
    "df_ee = pd.read_csv(url, sep = '\\t') \n",
    "\n",
    "# Download the CLIENT_191102.tsv change data structure to Pandas dataFrame\n",
    "url2 = 'https://raw.githubusercontent.com/biodatascience/datasci611/gh-pages/data/project2_2019/CLIENT_191102.tsv'\n",
    "df_client = pd.read_csv(url2, sep = '\\t')\n",
    "\n",
    "# Drop all columns except Client ID, Entry Date and Exit Date\n",
    "df_ee = df_ee[['Client ID', 'Entry Date', 'Exit Date']]\n",
    "\n",
    "# Drop any row with a Nan value\n",
    "df_ee = df_ee.dropna(how = 'any')\n",
    "\n",
    "# Conver the entry and exit dates into pandas datetime structure\n",
    "df_ee['entry_date'] = pd.to_datetime(df_ee['Entry Date'],infer_datetime_format=True)\n",
    "df_ee['exit_date'] = pd.to_datetime(df_ee['Exit Date'],infer_datetime_format=True)\n",
    "df_ee['time_spent'] = np.int64((df_ee['exit_date'] - df_ee['entry_date']).dt.days)\n",
    "\n",
    "# Annotate df_ee DF with Client Race metadata \n",
    "df_ee['client_race'] = df_client[df_client['Client ID'].isin(df_ee['Client ID'].to_list())]['Client Primary Race']\n",
    "\n",
    "# Annoate df_ee DF with Gender metatdata\n",
    "df_ee['client_gender'] = df_client[df_client['Client ID'].isin(df_ee['Client ID'].to_list())]['Client Gender']\n",
    "\n",
    "# Ammotate df_ee DF with Venteran status\n",
    "df_ee['client_vet_status'] = df_client[df_client['Client ID'].isin(df_ee['Client ID'].to_list())]['Client Veteran Status']\n",
    "\n",
    "# Output text file that can later be used with downstream R analysis\n",
    "df_ee.to_csv('../results/client_entry_exit_annotated.txt', sep = '\\t', index = False)"
   ]
  },
  {
   "cell_type": "code",
   "execution_count": 99,
   "metadata": {},
   "outputs": [
    {
     "name": "stdout",
     "output_type": "stream",
     "text": [
      "Writing race_v_time-in-shelter.py\n"
     ]
    }
   ],
   "source": [
    "%%writefile race_v_time-in-shelter.py\n",
    "\n",
    "\"\"\"\n",
    "Modifed: 2019-12-01\n",
    "Create a violin plot of Race v. time spent at UMD Shelter\n",
    "\n",
    "\"\"\"\n",
    "\n",
    "import pandas as pd\n",
    "import matplotlib\n",
    "matplotlib.rcParams['pdf.fonttype'] = 42\n",
    "matplotlib.rcParams['ps.fonttype'] = 42\n",
    "import matplotlib.pyplot as plt\n",
    "import seaborn as sns\n",
    "\n",
    "# Read in client_entry_exit_annotated.txt\n",
    "df = pd.read_csv('./results/client_entry_exit_annotated.txt', sep = '\\t')\n",
    "\n",
    "fig, ax = plt.subplots(figsize = (10,5))\n",
    "\n",
    "sns.violinplot(x = 'client_race', y = 'time_spent', data = df, ax = ax)\n",
    "\n",
    "#Update x_tick label names\n",
    "labels = [name.get_text() for name in ax.get_xticklabels()]\n",
    "updated_labels = [name.rstrip(' (HUD)') for name in labels]\n",
    "updated_labels\n",
    "ax.set_xticklabels(updated_labels)\n",
    "ax.set_xticklabels(ax.get_xticklabels(),rotation = 90)\n",
    "\n",
    "# Set the axes labels\n",
    "ax.set_ylabel('Time spent at UMD Shelter (Days)', fontweight = 'bold')\n",
    "ax.set_xlabel('Race', fontweight = 'bold')\n",
    "\n",
    "# Figure formatting\n",
    "sns.despine()\n",
    "\n",
    "labels = [name.get_text() for name in ax.get_xticklabels()]\n",
    "updated_labels = [name.rstrip(' (HUD)') for name in labels]\n",
    "updated_labels\n",
    "\n",
    "plt.savefig('./results/race_v_time_spent.png', bbox_inches = \"tight\", transparent = True, dpi  = 300)"
   ]
  },
  {
   "cell_type": "code",
   "execution_count": 100,
   "metadata": {},
   "outputs": [
    {
     "name": "stdout",
     "output_type": "stream",
     "text": [
      "Writing gender_v_time-in-shelter.py\n"
     ]
    }
   ],
   "source": [
    "%%writefile gender_v_time-in-shelter.py\n",
    "\n",
    "\"\"\"\n",
    "Modifed: 2019-12-01\n",
    "Create a violin plot of Client Gender v. time spent at UMD Shelter\n",
    "\n",
    "\"\"\"\n",
    "\n",
    "import pandas as pd\n",
    "import matplotlib\n",
    "matplotlib.rcParams['pdf.fonttype'] = 42\n",
    "matplotlib.rcParams['ps.fonttype'] = 42\n",
    "import matplotlib.pyplot as plt\n",
    "import seaborn as sns\n",
    "\n",
    "# Read in client_entry_exit_annotated.txt\n",
    "df = pd.read_csv('./results/client_entry_exit_annotated.txt', sep = '\\t')\n",
    "\n",
    "fig, ax = plt.subplots(figsize = (7,4))\n",
    "\n",
    "sns.violinplot(x = 'client_gender', y = 'time_spent', data = df, ax = ax)\n",
    "\n",
    "#Update x_tick label names\n",
    "labels = [name.get_text() for name in ax.get_xticklabels()]\n",
    "updated_labels = [name.rstrip(' (HUD)') for name in labels]\n",
    "updated_labels\n",
    "ax.set_xticklabels(updated_labels)\n",
    "ax.set_xticklabels(ax.get_xticklabels(),rotation = 90)\n",
    "\n",
    "# Set the axes labels\n",
    "ax.set_ylabel('Time spent at UMD Shelter (Days)', fontweight = 'bold')\n",
    "ax.set_xlabel('Gender', fontweight = 'bold')\n",
    "\n",
    "# Figure formatting\n",
    "sns.despine()\n",
    "\n",
    "labels = [name.get_text() for name in ax.get_xticklabels()]\n",
    "updated_labels = [name.rstrip(' (HUD)') for name in labels]\n",
    "updated_labels\n",
    "\n",
    "plt.savefig('./results/gender_v_time_spent.png', bbox_inches = \"tight\", transparent = True, dpi = 300)"
   ]
  },
  {
   "cell_type": "code",
   "execution_count": 101,
   "metadata": {},
   "outputs": [
    {
     "name": "stdout",
     "output_type": "stream",
     "text": [
      "Writing gender_race_v_time-in-shelter.py\n"
     ]
    }
   ],
   "source": [
    "%%writefile gender_race_v_time-in-shelter.py\n",
    "\n",
    "\"\"\"\n",
    "Modifed: 2019-12-01\n",
    "Create a violin plot of Client Gender v. time spent at UMD Shelter (Broken down by race)\n",
    "\n",
    "\"\"\"\n",
    "\n",
    "import pandas as pd\n",
    "import matplotlib\n",
    "matplotlib.rcParams['pdf.fonttype'] = 42\n",
    "matplotlib.rcParams['ps.fonttype'] = 42\n",
    "import matplotlib.pyplot as plt\n",
    "import seaborn as sns\n",
    "\n",
    "# Read in client_entry_exit_annotated.txt\n",
    "df = pd.read_csv('./results/client_entry_exit_annotated.txt', sep = '\\t')\n",
    "\n",
    "fig, ax = plt.subplots(figsize = (15,7))\n",
    "\n",
    "sns.violinplot(x = 'client_gender', y = 'time_spent', hue = 'client_race', data = df, ax = ax)\n",
    "\n",
    "#Update x_tick label names\n",
    "labels = [name.get_text() for name in ax.get_xticklabels()]\n",
    "updated_labels = [name.rstrip(' (HUD)') for name in labels]\n",
    "updated_labels\n",
    "ax.set_xticklabels(updated_labels)\n",
    "ax.set_xticklabels(ax.get_xticklabels(),rotation = 90)\n",
    "\n",
    "# Set the axes labels\n",
    "ax.set_ylabel('Time spent at UMD Shelter (Days)', fontweight = 'bold')\n",
    "ax.set_xlabel('Gender', fontweight = 'bold')\n",
    "\n",
    "# Figure formatting\n",
    "sns.despine()\n",
    "\n",
    "labels = [name.get_text() for name in ax.get_xticklabels()]\n",
    "updated_labels = [name.rstrip(' (HUD)') for name in labels]\n",
    "updated_labels\n",
    "\n",
    "plt.savefig('./results/gender_v_time_spent_race.png', bbox_inches = \"tight\", transparent = True, dpi = 300)"
   ]
  },
  {
   "cell_type": "code",
   "execution_count": 102,
   "metadata": {},
   "outputs": [
    {
     "name": "stdout",
     "output_type": "stream",
     "text": [
      "Writing veteran_v_time-in-shelter.py\n"
     ]
    }
   ],
   "source": [
    "%%writefile veteran_v_time-in-shelter.py\n",
    "\n",
    "\"\"\"\n",
    "Modifed: 2019-12-01\n",
    "Create a violin plot of Client Veteran status v. time spent at UMD Shelter (Broken down by race)\n",
    "\n",
    "\"\"\"\n",
    "\n",
    "import pandas as pd\n",
    "import matplotlib\n",
    "matplotlib.rcParams['pdf.fonttype'] = 42\n",
    "matplotlib.rcParams['ps.fonttype'] = 42\n",
    "import matplotlib.pyplot as plt\n",
    "import seaborn as sns\n",
    "\n",
    "# Read in client_entry_exit_annotated.txt\n",
    "df = pd.read_csv('./results/client_entry_exit_annotated.txt', sep = '\\t')\n",
    "\n",
    "fig, ax = plt.subplots(figsize = (15,7))\n",
    "\n",
    "sns.violinplot(x = 'client_vet_status', y = 'time_spent', data = df, ax = ax)\n",
    "\n",
    "#Update x_tick label names\n",
    "labels = [name.get_text() for name in ax.get_xticklabels()]\n",
    "updated_labels = [name.rstrip(' (HUD)') for name in labels]\n",
    "updated_labels\n",
    "ax.set_xticklabels(updated_labels)\n",
    "ax.set_xticklabels(ax.get_xticklabels(),rotation = 0)\n",
    "\n",
    "# Set the axes labels\n",
    "ax.set_ylabel('Time spent at UMD Shelter (Days)', fontweight = 'bold')\n",
    "ax.set_xlabel('Veteran', fontweight = 'bold')\n",
    "\n",
    "# Figure formatting\n",
    "sns.despine()\n",
    "\n",
    "labels = [name.get_text() for name in ax.get_xticklabels()]\n",
    "updated_labels = [name.rstrip(' (HUD)') for name in labels]\n",
    "updated_labels\n",
    "\n",
    "plt.savefig('./results/vet-status_v_time_spent_race.png', bbox_inches = \"tight\", transparent = True, dpi = 300)"
   ]
  },
  {
   "cell_type": "code",
   "execution_count": null,
   "metadata": {},
   "outputs": [],
   "source": []
  }
 ],
 "metadata": {
  "kernelspec": {
   "display_name": "Python 3",
   "language": "python",
   "name": "python3"
  },
  "language_info": {
   "codemirror_mode": {
    "name": "ipython",
    "version": 3
   },
   "file_extension": ".py",
   "mimetype": "text/x-python",
   "name": "python",
   "nbconvert_exporter": "python",
   "pygments_lexer": "ipython3",
   "version": "3.7.4"
  }
 },
 "nbformat": 4,
 "nbformat_minor": 2
}
