{
 "cells": [
  {
   "cell_type": "code",
   "execution_count": 1,
   "metadata": {},
   "outputs": [
    {
     "data": {
      "text/plain": [
       "'\\nMake file will run the the jupyter notebook to generate necessary scripts\\n1. Data wrangling in pandas \\n2. visualization in matplotlib and ggplot \\n'"
      ]
     },
     "execution_count": 1,
     "metadata": {},
     "output_type": "execute_result"
    }
   ],
   "source": [
    "\"\"\"\n",
    "Q: How well are resources distributed amongst the different groups of\n",
    "people represented in the general UMD population?\n",
    "\n",
    "\"\"\"\n",
    "\n",
    "# What is the distribution of time between entry and exit? -->histogram\n",
    "# On average which demographic gets the most food? --> Violin plot \n",
    "# What percentage of population being served is of a givne race? --> pie chart\n",
    "# Maybe - Do veterans or non-veterans receive more food? --> Violin plot\n",
    "\n",
    "\n",
    "\"\"\"\n",
    "Make file will run the the jupyter notebook to generate necessary scripts\n",
    "1. Data wrangling in pandas \n",
    "2. visualization in matplotlib and ggplot \n",
    "\"\"\""
   ]
  },
  {
   "cell_type": "code",
   "execution_count": 24,
   "metadata": {},
   "outputs": [],
   "source": [
    "# %%writefile age_distribution.py\n",
    "\n",
    "#How long are individuals receiving help from UMD? - I will likely not include this in my final draft\n",
    "\n",
    "#2019-11-18\n",
    "\n",
    "import pandas as pd\n",
    "\n",
    "# Gather UMD demographic data set - \n",
    "df_demo = pd.read_csv('https://raw.githubusercontent.com/biodatascience/datasci611/gh-pages/data/project2_2019/CLIENT_191102.tsv', sep = '\\t')\n",
    "\n",
    "# Clean up dataFrame\n",
    "df_age = df_demo.loc[:,['Client Age at Entry', 'Client Age at Exit']]\n",
    "\n",
    "\n",
    "# Calculate time of Stay??\n",
    "df_age['time_spent'] = df_age['Client Age at Exit'] - df_age['Client Age at Entry']\n",
    "\n",
    "# Outpt dataframe\n",
    "\n",
    "df_age.to_csv('../results/age_analysis_tmp.txt',header = False, index = False, sep = '\\t')\n",
    "\n"
   ]
  },
  {
   "cell_type": "code",
   "execution_count": 17,
   "metadata": {},
   "outputs": [
    {
     "data": {
      "text/plain": [
       "(5299, 10)"
      ]
     },
     "execution_count": 17,
     "metadata": {},
     "output_type": "execute_result"
    }
   ],
   "source": [
    "df_demo.shape"
   ]
  },
  {
   "cell_type": "code",
   "execution_count": 18,
   "metadata": {},
   "outputs": [
    {
     "data": {
      "text/plain": [
       "<matplotlib.axes._subplots.AxesSubplot at 0x118093850>"
      ]
     },
     "execution_count": 18,
     "metadata": {},
     "output_type": "execute_result"
    },
    {
     "data": {
      "image/png": "[encoded data removed]",
      "text/plain": [
       "<Figure size 432x288 with 1 Axes>"
      ]
     },
     "metadata": {
      "needs_background": "light"
     },
     "output_type": "display_data"
    }
   ],
   "source": [
    "import seaborn as sns\n",
    "import matplotlib.pyplot as plt\n",
    "\n",
    "fig, ax = plt.subplots()\n",
    "\n",
    "sns.distplot(df_age['time_spent'],ax=ax, kde=False, bins =3)"
   ]
  },
  {
   "cell_type": "code",
   "execution_count": null,
   "metadata": {},
   "outputs": [],
   "source": [
    "\"\"\"\n",
    "The problem with the food and clothes analysis is I only have records for a handful of people.\n",
    "How can I make a conclusion about the general service from a handful of data points?\n",
    "What trends are associated with race?\n",
    "    1. The distribution of age at entry for each race group.\n",
    "    2. Number of men vs. women for each race.\n",
    "    \n",
    "If the I find that the majority of the clients are black men, which is proabbly not a novel finding to\n",
    "UMD, I an suggest that there progamming evolve to \n",
    "\"\"\""
   ]
  },
  {
   "cell_type": "code",
   "execution_count": 171,
   "metadata": {},
   "outputs": [
    {
     "data": {
      "text/plain": [
       "1       48.0\n",
       "2       42.0\n",
       "5       30.0\n",
       "6       51.0\n",
       "7       56.0\n",
       "        ... \n",
       "5176    37.0\n",
       "5213    43.0\n",
       "5225    51.0\n",
       "5232    50.0\n",
       "5284    62.0\n",
       "Name: Client Age at Entry, Length: 1699, dtype: float64"
      ]
     },
     "execution_count": 171,
     "metadata": {},
     "output_type": "execute_result"
    },
    {
     "data": {
      "image/png": "[encoded data removed]",
      "text/plain": [
       "<Figure size 432x288 with 1 Axes>"
      ]
     },
     "metadata": {
      "needs_background": "light"
     },
     "output_type": "display_data"
    }
   ],
   "source": [
    "df_demo_nodup = df_demo.drop_duplicates(subset = 'Client ID')\n",
    "\n",
    "df_demo_nodup[df_demo_nodup['Client Primary Race'] == 'Black or African American (HUD)'].groupby('Client Gender').size()\n",
    "age = df_demo_nodup[df_demo_nodup['Client Primary Race'] == 'Black or African American (HUD)']['Client Age at Entry']\n",
    "\n",
    "fig, ax = plt.subplots()\n",
    "\n",
    "sns.distplot(age,ax=ax, kde=False, bins =50)\n",
    "\n",
    "age"
   ]
  },
  {
   "cell_type": "code",
   "execution_count": 163,
   "metadata": {},
   "outputs": [
    {
     "data": {
      "text/html": [
       "<div>\n",
       "<style scoped>\n",
       "    .dataframe tbody tr th:only-of-type {\n",
       "        vertical-align: middle;\n",
       "    }\n",
       "\n",
       "    .dataframe tbody tr th {\n",
       "        vertical-align: top;\n",
       "    }\n",
       "\n",
       "    .dataframe thead th {\n",
       "        text-align: right;\n",
       "    }\n",
       "</style>\n",
       "<table border=\"1\" class=\"dataframe\">\n",
       "  <thead>\n",
       "    <tr style=\"text-align: right;\">\n",
       "      <th></th>\n",
       "      <th>EE Provider ID</th>\n",
       "      <th>EE UID</th>\n",
       "      <th>Client Unique ID</th>\n",
       "      <th>Client ID</th>\n",
       "      <th>Client Age at Entry</th>\n",
       "      <th>Client Age at Exit</th>\n",
       "      <th>Client Gender</th>\n",
       "      <th>Client Primary Race</th>\n",
       "      <th>Client Ethnicity</th>\n",
       "      <th>Client Veteran Status</th>\n",
       "    </tr>\n",
       "  </thead>\n",
       "  <tbody>\n",
       "    <tr>\n",
       "      <td>0</td>\n",
       "      <td>Urban Ministries of Durham - Durham County - S...</td>\n",
       "      <td>687901</td>\n",
       "      <td>pbkf09291954p610b236</td>\n",
       "      <td>397941</td>\n",
       "      <td>60.0</td>\n",
       "      <td>61.0</td>\n",
       "      <td>Female</td>\n",
       "      <td>White (HUD)</td>\n",
       "      <td>Non-Hispanic/Non-Latino (HUD)</td>\n",
       "      <td>No (HUD)</td>\n",
       "    </tr>\n",
       "    <tr>\n",
       "      <td>1</td>\n",
       "      <td>Urban Ministries of Durham - Durham County - S...</td>\n",
       "      <td>687902</td>\n",
       "      <td>kdaf01071967k400d635</td>\n",
       "      <td>130335</td>\n",
       "      <td>48.0</td>\n",
       "      <td>48.0</td>\n",
       "      <td>Female</td>\n",
       "      <td>Black or African American (HUD)</td>\n",
       "      <td>Non-Hispanic/Non-Latino (HUD)</td>\n",
       "      <td>No (HUD)</td>\n",
       "    </tr>\n",
       "    <tr>\n",
       "      <td>2</td>\n",
       "      <td>Urban Ministries of Durham - Durham County - S...</td>\n",
       "      <td>687903</td>\n",
       "      <td>smrf06211973s620m640</td>\n",
       "      <td>188933</td>\n",
       "      <td>42.0</td>\n",
       "      <td>42.0</td>\n",
       "      <td>Female</td>\n",
       "      <td>Black or African American (HUD)</td>\n",
       "      <td>Non-Hispanic/Non-Latino (HUD)</td>\n",
       "      <td>No (HUD)</td>\n",
       "    </tr>\n",
       "    <tr>\n",
       "      <td>3</td>\n",
       "      <td>Urban Ministries of Durham - Durham County - S...</td>\n",
       "      <td>687904</td>\n",
       "      <td>abrm07251958a416b600</td>\n",
       "      <td>168290</td>\n",
       "      <td>57.0</td>\n",
       "      <td>57.0</td>\n",
       "      <td>Male</td>\n",
       "      <td>White (HUD)</td>\n",
       "      <td>Hispanic/Latino (HUD)</td>\n",
       "      <td>No (HUD)</td>\n",
       "    </tr>\n",
       "    <tr>\n",
       "      <td>4</td>\n",
       "      <td>Urban Ministries of Durham - Durham County - S...</td>\n",
       "      <td>687905</td>\n",
       "      <td>wbom01251964w450b620</td>\n",
       "      <td>123122</td>\n",
       "      <td>51.0</td>\n",
       "      <td>51.0</td>\n",
       "      <td>Male</td>\n",
       "      <td>White (HUD)</td>\n",
       "      <td>Non-Hispanic/Non-Latino (HUD)</td>\n",
       "      <td>No (HUD)</td>\n",
       "    </tr>\n",
       "  </tbody>\n",
       "</table>\n",
       "</div>"
      ],
      "text/plain": [
       "                                      EE Provider ID  EE UID  \\\n",
       "0  Urban Ministries of Durham - Durham County - S...  687901   \n",
       "1  Urban Ministries of Durham - Durham County - S...  687902   \n",
       "2  Urban Ministries of Durham - Durham County - S...  687903   \n",
       "3  Urban Ministries of Durham - Durham County - S...  687904   \n",
       "4  Urban Ministries of Durham - Durham County - S...  687905   \n",
       "\n",
       "       Client Unique ID  Client ID  Client Age at Entry  Client Age at Exit  \\\n",
       "0  pbkf09291954p610b236     397941                 60.0                61.0   \n",
       "1  kdaf01071967k400d635     130335                 48.0                48.0   \n",
       "2  smrf06211973s620m640     188933                 42.0                42.0   \n",
       "3  abrm07251958a416b600     168290                 57.0                57.0   \n",
       "4  wbom01251964w450b620     123122                 51.0                51.0   \n",
       "\n",
       "  Client Gender              Client Primary Race  \\\n",
       "0        Female                      White (HUD)   \n",
       "1        Female  Black or African American (HUD)   \n",
       "2        Female  Black or African American (HUD)   \n",
       "3          Male                      White (HUD)   \n",
       "4          Male                      White (HUD)   \n",
       "\n",
       "                Client Ethnicity Client Veteran Status  \n",
       "0  Non-Hispanic/Non-Latino (HUD)              No (HUD)  \n",
       "1  Non-Hispanic/Non-Latino (HUD)              No (HUD)  \n",
       "2  Non-Hispanic/Non-Latino (HUD)              No (HUD)  \n",
       "3          Hispanic/Latino (HUD)              No (HUD)  \n",
       "4  Non-Hispanic/Non-Latino (HUD)              No (HUD)  "
      ]
     },
     "execution_count": 163,
     "metadata": {},
     "output_type": "execute_result"
    }
   ],
   "source": [
    "df_demo_nodup.head()"
   ]
  },
  {
   "cell_type": "code",
   "execution_count": 142,
   "metadata": {},
   "outputs": [
    {
     "data": {
      "text/plain": [
       "Client Gender\n",
       "Female                                  1290\n",
       "Male                                    3989\n",
       "Trans Female (MTF or Male to Female)      17\n",
       "dtype: int64"
      ]
     },
     "execution_count": 142,
     "metadata": {},
     "output_type": "execute_result"
    }
   ],
   "source": [
    "import pandas as pd \n",
    "import numpy as np\n",
    "\n",
    "\n",
    "# Gather UMD demographic data set - \n",
    "df_demo = pd.read_csv('https://raw.githubusercontent.com/biodatascience/datasci611/gh-pages/data/project2_2019/CLIENT_191102.tsv', sep = '\\t')\n",
    "\n",
    "# Filter UMD demographic data set for clients with ID equal to or smaller than 16792 \n",
    "# (Max Client number in original data set)\n",
    "df_demo = df_demo[df_demo['Client ID'] <= 16792]\n",
    "\n",
    "# Gather UMD services data \n",
    "df_service = pd.read_csv('../data/UMD_Services_Provided_20190719.tsv', sep = '\\t')\n",
    "\n",
    "# Isolate Client number and Food Pounds\n",
    "df_food = df_service.loc[:,['Client File Number', 'Food Pounds']]\n",
    "df_demo.groupby('Client Gender').size()"
   ]
  },
  {
   "cell_type": "code",
   "execution_count": 20,
   "metadata": {},
   "outputs": [],
   "source": [
    "# %%writefile race_food_distribution.py\n",
    "\n",
    "# What is the distribution of food provided by race?\n",
    "\n",
    "import pandas as pd \n",
    "import numpy as np\n",
    "\n",
    "\n",
    "# Gather UMD demographic data set - \n",
    "df_demo = pd.read_csv('https://raw.githubusercontent.com/biodatascience/datasci611/gh-pages/data/project2_2019/CLIENT_191102.tsv', sep = '\\t')\n",
    "\n",
    "# Filter UMD demographic data set for clients with ID equal to or smaller than 16792 \n",
    "# (Max Client number in original data set)\n",
    "df_demo = df_demo[df_demo['Client ID'] <= 16792]\n",
    "\n",
    "# Gather UMD services data \n",
    "df_service = pd.read_csv('../data/UMD_Services_Provided_20190719.tsv', sep = '\\t')\n",
    "\n",
    "# Isolate Client number and Food Pounds\n",
    "df_food = df_service.loc[:,['Client File Number', 'Food Pounds']]\n",
    "\n",
    "\n",
    "# Isolate all racial categories\n",
    "race_hold = []\n",
    "race_client_id = []\n",
    "for race in df_demo['Client Primary Race'].unique().tolist():\n",
    "    if df_demo['Client ID'].loc[df_demo['Client Primary Race'] == race].to_list():\n",
    "        race_hold.append(race) \n",
    "        race_client_id.append(df_demo['Client ID'].loc[df_demo['Client Primary Race'] == race].to_list())\n",
    "\n",
    "# Find data on food provided\n",
    "race_df_out = []\n",
    "for race_id, race in zip(race_client_id, race_hold):\n",
    "    hold = df_food.loc[df_food['Client File Number'].isin(race_id)].drop_duplicates(subset = 'Client File Number')\n",
    "    hold['race'] = race \n",
    "    race_df_out.append(hold)\n",
    "    \n",
    "race_food_out = pd.concat(race_df_out)\n",
    "\n",
    "# Create tmp txt file for ggplot visualization\n",
    "race_food_out.to_csv('../results/race_food_analysis_tmp.txt',index = False, sep = '\\t')"
   ]
  },
  {
   "cell_type": "code",
   "execution_count": 21,
   "metadata": {},
   "outputs": [
    {
     "data": {
      "text/plain": [
       "(27, 3)"
      ]
     },
     "execution_count": 21,
     "metadata": {},
     "output_type": "execute_result"
    }
   ],
   "source": [
    "race_food_out.shape"
   ]
  },
  {
   "cell_type": "markdown",
   "metadata": {},
   "source": [
    "#### Notes about Race Food Analysis\n",
    "\n",
    "When I started the race_food analysis I didn't anticipate there being so few data points. I will likely replace this analyis with something else, or point out to the reader that if this question is of interest it would be beneficial to gather additional data. "
   ]
  },
  {
   "cell_type": "code",
   "execution_count": 22,
   "metadata": {},
   "outputs": [
    {
     "data": {
      "text/plain": [
       "['Black or African American (HUD)', 'White (HUD)']"
      ]
     },
     "execution_count": 22,
     "metadata": {},
     "output_type": "execute_result"
    }
   ],
   "source": [
    "df_demo['Client Primary Race'].unique().tolist()"
   ]
  },
  {
   "cell_type": "code",
   "execution_count": 25,
   "metadata": {},
   "outputs": [
    {
     "data": {
      "text/plain": [
       "Client Primary Race\n",
       "American Indian or Alaska Native (HUD)               90\n",
       "Asian (HUD)                                           3\n",
       "Black or African American (HUD)                    3864\n",
       "Client doesn't know (HUD)                             4\n",
       "Client refused (HUD)                                  5\n",
       "Data not collected (HUD)                              6\n",
       "Native Hawaiian or Other Pacific Islander (HUD)      11\n",
       "White (HUD)                                        1313\n",
       "dtype: int64"
      ]
     },
     "execution_count": 25,
     "metadata": {},
     "output_type": "execute_result"
    }
   ],
   "source": [
    "df_demo.groupby('Client Primary Race').size()"
   ]
  },
  {
   "cell_type": "code",
   "execution_count": null,
   "metadata": {},
   "outputs": [],
   "source": []
  },
  {
   "cell_type": "code",
   "execution_count": null,
   "metadata": {},
   "outputs": [],
   "source": [
    "\"\"\"\n",
    "Of the ~5000 clients listed in the CLIENTS tsv,\n",
    "only 77 client numbers are in the original food/clothing data set.\n",
    "\n",
    "Therefore, I am not feeling particularly confident about any conclusions. The goal is to perform \n",
    "an analysis that is relevant to UMD. Perhaps I need to brainstorm some additional questions, and/or \n",
    "think more deelply about why. The analysis should help improve the UMD achieve its goal.\n",
    "\n",
    "We connect with the community to end homelessness and fight poverty by offering food, \n",
    "shelter, and a future to neighbors in need.\n",
    "\n",
    "\n",
    "Disability data: ~41K records\n",
    "How does disability status impact the organizations ability to provide food, shelter, and future?\n",
    "If an individual abuses a substance, it might hinder UMD's ability to facility connection to future opportunities.\n",
    "Does having a having a substance problem make a client more likely to use food, shelter servies multiptle times?\n",
    "\n",
    "\"\"\"\n"
   ]
  },
  {
   "cell_type": "code",
   "execution_count": 26,
   "metadata": {},
   "outputs": [],
   "source": [
    "#What other variables are recored in the other datasets?\n",
    "\n",
    "url = \n",
    "data_test = pd.read_csv(url, sep = '\\t')"
   ]
  },
  {
   "cell_type": "code",
   "execution_count": 33,
   "metadata": {},
   "outputs": [
    {
     "data": {
      "text/plain": [
       "Disability Type (Entry)\n",
       "Alcohol Abuse (HUD)                  5035\n",
       "Both Alcohol and Drug Abuse (HUD)    5085\n",
       "Chronic Health Condition (HUD)       5110\n",
       "Developmental (HUD)                  5048\n",
       "Drug Abuse (HUD)                     5076\n",
       "Dual Diagnosis                          6\n",
       "HIV/AIDS (HUD)                       5061\n",
       "Hearing Impaired                        2\n",
       "Mental Health Problem (HUD)          5324\n",
       "Other                                   6\n",
       "Other: Learning                         3\n",
       "Other: Speech                           2\n",
       "Physical (HUD)                       5128\n",
       "Physical/Medical                      501\n",
       "Vision Impaired                         3\n",
       "dtype: int64"
      ]
     },
     "execution_count": 33,
     "metadata": {},
     "output_type": "execute_result"
    }
   ],
   "source": [
    "data_test.groupby('Disability Type (Entry)').size()"
   ]
  },
  {
   "cell_type": "code",
   "execution_count": 36,
   "metadata": {},
   "outputs": [
    {
     "data": {
      "text/plain": [
       "(634, 11)"
      ]
     },
     "execution_count": 36,
     "metadata": {},
     "output_type": "execute_result"
    }
   ],
   "source": [
    "data_test[data_test['Client ID'] < 16e3].shape"
   ]
  },
  {
   "cell_type": "code",
   "execution_count": 37,
   "metadata": {},
   "outputs": [],
   "source": [
    "#Disabilty Exit data\n",
    "\n",
    "url = 'https://raw.githubusercontent.com/biodatascience/datasci611/gh-pages/data/project2_2019/DISABILITY_EXIT_191102.tsv'\n",
    "df_disab_exit = pd.read_csv(url, sep = '\\t')"
   ]
  },
  {
   "cell_type": "code",
   "execution_count": 39,
   "metadata": {},
   "outputs": [
    {
     "data": {
      "text/plain": [
       "Disability Determination (Exit)\n",
       "Client doesn't know (HUD)       37\n",
       "Data not collected (HUD)        11\n",
       "No (HUD)                     36737\n",
       "Yes (HUD)                     5026\n",
       "dtype: int64"
      ]
     },
     "execution_count": 39,
     "metadata": {},
     "output_type": "execute_result"
    }
   ],
   "source": [
    "df_disab_exit.groupby('Disability Determination (Exit)').size()"
   ]
  },
  {
   "cell_type": "code",
   "execution_count": 41,
   "metadata": {},
   "outputs": [
    {
     "data": {
      "text/plain": [
       "Disability Type (Exit)\n",
       "Alcohol Abuse (HUD)                   122\n",
       "Both Alcohol and Drug Abuse (HUD)     363\n",
       "Chronic Health Condition (HUD)        607\n",
       "Developmental (HUD)                   172\n",
       "Drug Abuse (HUD)                      158\n",
       "HIV/AIDS (HUD)                        121\n",
       "Mental Health Problem (HUD)          1807\n",
       "Other                                   5\n",
       "Other: Learning                         3\n",
       "Physical (HUD)                       1255\n",
       "Physical/Medical                      412\n",
       "Vision Impaired                         1\n",
       "dtype: int64"
      ]
     },
     "execution_count": 41,
     "metadata": {},
     "output_type": "execute_result"
    }
   ],
   "source": [
    "df_disab_exit[df_disab_exit['Disability Determination (Exit)'] == \"Yes (HUD)\"].groupby('Disability Type (Exit)').size()"
   ]
  },
  {
   "cell_type": "code",
   "execution_count": 130,
   "metadata": {},
   "outputs": [
    {
     "data": {
      "text/plain": [
       "'\\nHow does having income upon entry impact the amount of food received?\\n\\nI could frame this analysis in terms of variables that introduce bias.\\n\\nThere is only a small difference in the average amount of food provided to clients \\nrecieving or not receiving income at time of entry.\\n\\n'"
      ]
     },
     "execution_count": 130,
     "metadata": {},
     "output_type": "execute_result"
    }
   ],
   "source": [
    "\"\"\"\n",
    "I could frame this analysis in terms of variables that introduce bias.\n",
    "The word bias carries a weight that may not be necessary in this context.\n",
    "\n",
    "How does having income upon entry impact the amount of food received?\n",
    "\n",
    "There is only a small difference in the average amount of food provided to clients \n",
    "recieving or not receiving income at time of entry.\n",
    "\n",
    "I am spinning my wheels right now. I need to settle down on an idea. How many of the metadata client ids\n",
    "can I find in the original food, clothes, supplies list?\n",
    "\n",
    "Possibly show a graph of the number of clients that we have income, race, etc. data from the orignal data set.\n",
    "\n",
    "Is there room for prediction? \n",
    "\n",
    "\"\"\""
   ]
  },
  {
   "cell_type": "code",
   "execution_count": 42,
   "metadata": {},
   "outputs": [],
   "source": [
    "#Income entry data\n",
    "url = 'https://raw.githubusercontent.com/biodatascience/datasci611/gh-pages/data/project2_2019/INCOME_ENTRY_191102.tsv'\n",
    "df_income_entry = pd.read_csv(url, sep = '\\t') "
   ]
  },
  {
   "cell_type": "code",
   "execution_count": 98,
   "metadata": {},
   "outputs": [
    {
     "data": {
      "text/plain": [
       "92"
      ]
     },
     "execution_count": 98,
     "metadata": {},
     "output_type": "execute_result"
    }
   ],
   "source": [
    "#Gather client numbers with income at time of entry\n",
    "l_income_at_entry = df_income_entry[(df_income_entry['Client ID'] < 16792) & (df_income_entry['Receiving Income (Entry)'] == 'Yes')]['Client ID']\n",
    "\n",
    "len(list(l_income_at_entry))"
   ]
  },
  {
   "cell_type": "code",
   "execution_count": 99,
   "metadata": {},
   "outputs": [
    {
     "data": {
      "text/plain": [
       "25.91176470588235"
      ]
     },
     "execution_count": 99,
     "metadata": {},
     "output_type": "execute_result"
    }
   ],
   "source": [
    "df_food[df_food['Client File Number'].isin(list(l_income_at_entry.unique()))]['Food Pounds'].mean()"
   ]
  },
  {
   "cell_type": "code",
   "execution_count": 87,
   "metadata": {},
   "outputs": [
    {
     "data": {
      "text/html": [
       "<div>\n",
       "<style scoped>\n",
       "    .dataframe tbody tr th:only-of-type {\n",
       "        vertical-align: middle;\n",
       "    }\n",
       "\n",
       "    .dataframe tbody tr th {\n",
       "        vertical-align: top;\n",
       "    }\n",
       "\n",
       "    .dataframe thead th {\n",
       "        text-align: right;\n",
       "    }\n",
       "</style>\n",
       "<table border=\"1\" class=\"dataframe\">\n",
       "  <thead>\n",
       "    <tr style=\"text-align: right;\">\n",
       "      <th></th>\n",
       "      <th>Client File Number</th>\n",
       "      <th>Food Pounds</th>\n",
       "    </tr>\n",
       "  </thead>\n",
       "  <tbody>\n",
       "    <tr>\n",
       "      <td>35754</td>\n",
       "      <td>6266</td>\n",
       "      <td>0.0</td>\n",
       "    </tr>\n",
       "  </tbody>\n",
       "</table>\n",
       "</div>"
      ],
      "text/plain": [
       "       Client File Number  Food Pounds\n",
       "35754                6266          0.0"
      ]
     },
     "execution_count": 87,
     "metadata": {},
     "output_type": "execute_result"
    }
   ],
   "source": [
    "df_food.sample()"
   ]
  },
  {
   "cell_type": "code",
   "execution_count": 109,
   "metadata": {},
   "outputs": [
    {
     "data": {
      "text/plain": [
       "count    2220.000000\n",
       "mean       34.492793\n",
       "std        44.571915\n",
       "min         1.000000\n",
       "25%        15.000000\n",
       "50%        15.000000\n",
       "75%        31.000000\n",
       "max       555.000000\n",
       "dtype: float64"
      ]
     },
     "execution_count": 109,
     "metadata": {},
     "output_type": "execute_result"
    }
   ],
   "source": [
    "df_income_entry.groupby('Client ID').size().describe()"
   ]
  },
  {
   "cell_type": "code",
   "execution_count": 112,
   "metadata": {},
   "outputs": [
    {
     "data": {
      "text/plain": [
       "(2220,)"
      ]
     },
     "execution_count": 112,
     "metadata": {},
     "output_type": "execute_result"
    }
   ],
   "source": [
    "df_income_entry['Client ID'].unique().shape"
   ]
  },
  {
   "cell_type": "code",
   "execution_count": 117,
   "metadata": {},
   "outputs": [
    {
     "data": {
      "text/plain": [
       "Monthly Amount (Entry)\n",
       "0.0       63\n",
       "13.0       1\n",
       "14.5       1\n",
       "25.0      10\n",
       "27.0       1\n",
       "          ..\n",
       "3500.0     2\n",
       "3840.0     2\n",
       "4000.0     9\n",
       "4700.0     2\n",
       "5000.0     1\n",
       "Length: 468, dtype: int64"
      ]
     },
     "execution_count": 117,
     "metadata": {},
     "output_type": "execute_result"
    }
   ],
   "source": [
    "df_income_entry.groupby('Monthly Amount (Entry)').size()"
   ]
  },
  {
   "cell_type": "code",
   "execution_count": 136,
   "metadata": {},
   "outputs": [
    {
     "data": {
      "text/html": [
       "<div>\n",
       "<style scoped>\n",
       "    .dataframe tbody tr th:only-of-type {\n",
       "        vertical-align: middle;\n",
       "    }\n",
       "\n",
       "    .dataframe tbody tr th {\n",
       "        vertical-align: top;\n",
       "    }\n",
       "\n",
       "    .dataframe thead th {\n",
       "        text-align: right;\n",
       "    }\n",
       "</style>\n",
       "<table border=\"1\" class=\"dataframe\">\n",
       "  <thead>\n",
       "    <tr style=\"text-align: right;\">\n",
       "      <th></th>\n",
       "      <th>EE Provider ID</th>\n",
       "      <th>EE UID</th>\n",
       "      <th>Client Unique ID</th>\n",
       "      <th>Client ID</th>\n",
       "      <th>Receiving Income (Entry)</th>\n",
       "      <th>Income Source (Entry)</th>\n",
       "      <th>Monthly Amount (Entry)</th>\n",
       "      <th>Income Start Date (Entry)</th>\n",
       "      <th>Income End Date (Entry)</th>\n",
       "      <th>Recordset ID (140-recordset_id)</th>\n",
       "      <th>Provider (140-provider)</th>\n",
       "      <th>Date Added (140-date_added)</th>\n",
       "    </tr>\n",
       "  </thead>\n",
       "  <tbody>\n",
       "    <tr>\n",
       "      <td>0</td>\n",
       "      <td>Urban Ministries of Durham - Durham County - S...</td>\n",
       "      <td>687901</td>\n",
       "      <td>pbkf09291954p610b236</td>\n",
       "      <td>397941</td>\n",
       "      <td>No</td>\n",
       "      <td>Alimony or Other Spousal Support (HUD)</td>\n",
       "      <td>NaN</td>\n",
       "      <td>4/20/2015</td>\n",
       "      <td>NaN</td>\n",
       "      <td>3263585</td>\n",
       "      <td>Urban Ministries of Durham - Durham County - S...</td>\n",
       "      <td>12/31/2015</td>\n",
       "    </tr>\n",
       "    <tr>\n",
       "      <td>1</td>\n",
       "      <td>Urban Ministries of Durham - Durham County - S...</td>\n",
       "      <td>687901</td>\n",
       "      <td>pbkf09291954p610b236</td>\n",
       "      <td>397941</td>\n",
       "      <td>No</td>\n",
       "      <td>Child Support (HUD)</td>\n",
       "      <td>NaN</td>\n",
       "      <td>4/20/2015</td>\n",
       "      <td>NaN</td>\n",
       "      <td>3263586</td>\n",
       "      <td>Urban Ministries of Durham - Durham County - S...</td>\n",
       "      <td>12/31/2015</td>\n",
       "    </tr>\n",
       "    <tr>\n",
       "      <td>2</td>\n",
       "      <td>Urban Ministries of Durham - Durham County - S...</td>\n",
       "      <td>687901</td>\n",
       "      <td>pbkf09291954p610b236</td>\n",
       "      <td>397941</td>\n",
       "      <td>No</td>\n",
       "      <td>Earned Income (HUD)</td>\n",
       "      <td>NaN</td>\n",
       "      <td>4/20/2015</td>\n",
       "      <td>NaN</td>\n",
       "      <td>3263590</td>\n",
       "      <td>Urban Ministries of Durham - Durham County - S...</td>\n",
       "      <td>12/31/2015</td>\n",
       "    </tr>\n",
       "    <tr>\n",
       "      <td>3</td>\n",
       "      <td>Urban Ministries of Durham - Durham County - S...</td>\n",
       "      <td>687901</td>\n",
       "      <td>pbkf09291954p610b236</td>\n",
       "      <td>397941</td>\n",
       "      <td>No</td>\n",
       "      <td>General Assistance (HUD)</td>\n",
       "      <td>NaN</td>\n",
       "      <td>4/20/2015</td>\n",
       "      <td>NaN</td>\n",
       "      <td>3263587</td>\n",
       "      <td>Urban Ministries of Durham - Durham County - S...</td>\n",
       "      <td>12/31/2015</td>\n",
       "    </tr>\n",
       "    <tr>\n",
       "      <td>4</td>\n",
       "      <td>Urban Ministries of Durham - Durham County - S...</td>\n",
       "      <td>687901</td>\n",
       "      <td>pbkf09291954p610b236</td>\n",
       "      <td>397941</td>\n",
       "      <td>No</td>\n",
       "      <td>Other (HUD)</td>\n",
       "      <td>NaN</td>\n",
       "      <td>4/20/2015</td>\n",
       "      <td>NaN</td>\n",
       "      <td>3263599</td>\n",
       "      <td>Urban Ministries of Durham - Durham County - S...</td>\n",
       "      <td>12/31/2015</td>\n",
       "    </tr>\n",
       "  </tbody>\n",
       "</table>\n",
       "</div>"
      ],
      "text/plain": [
       "                                      EE Provider ID  EE UID  \\\n",
       "0  Urban Ministries of Durham - Durham County - S...  687901   \n",
       "1  Urban Ministries of Durham - Durham County - S...  687901   \n",
       "2  Urban Ministries of Durham - Durham County - S...  687901   \n",
       "3  Urban Ministries of Durham - Durham County - S...  687901   \n",
       "4  Urban Ministries of Durham - Durham County - S...  687901   \n",
       "\n",
       "       Client Unique ID  Client ID Receiving Income (Entry)  \\\n",
       "0  pbkf09291954p610b236     397941                       No   \n",
       "1  pbkf09291954p610b236     397941                       No   \n",
       "2  pbkf09291954p610b236     397941                       No   \n",
       "3  pbkf09291954p610b236     397941                       No   \n",
       "4  pbkf09291954p610b236     397941                       No   \n",
       "\n",
       "                    Income Source (Entry)  Monthly Amount (Entry)  \\\n",
       "0  Alimony or Other Spousal Support (HUD)                     NaN   \n",
       "1                     Child Support (HUD)                     NaN   \n",
       "2                     Earned Income (HUD)                     NaN   \n",
       "3                General Assistance (HUD)                     NaN   \n",
       "4                             Other (HUD)                     NaN   \n",
       "\n",
       "  Income Start Date (Entry) Income End Date (Entry)  \\\n",
       "0                 4/20/2015                     NaN   \n",
       "1                 4/20/2015                     NaN   \n",
       "2                 4/20/2015                     NaN   \n",
       "3                 4/20/2015                     NaN   \n",
       "4                 4/20/2015                     NaN   \n",
       "\n",
       "   Recordset ID (140-recordset_id)  \\\n",
       "0                          3263585   \n",
       "1                          3263586   \n",
       "2                          3263590   \n",
       "3                          3263587   \n",
       "4                          3263599   \n",
       "\n",
       "                             Provider (140-provider)  \\\n",
       "0  Urban Ministries of Durham - Durham County - S...   \n",
       "1  Urban Ministries of Durham - Durham County - S...   \n",
       "2  Urban Ministries of Durham - Durham County - S...   \n",
       "3  Urban Ministries of Durham - Durham County - S...   \n",
       "4  Urban Ministries of Durham - Durham County - S...   \n",
       "\n",
       "  Date Added (140-date_added)  \n",
       "0                  12/31/2015  \n",
       "1                  12/31/2015  \n",
       "2                  12/31/2015  \n",
       "3                  12/31/2015  \n",
       "4                  12/31/2015  "
      ]
     },
     "execution_count": 136,
     "metadata": {},
     "output_type": "execute_result"
    }
   ],
   "source": [
    "\n",
    "\n",
    "\"\"\"There is a receivign income, as well as an income source.\"\"\"\n",
    "\n",
    "# df_income_entry[df_income_entry['Income Source (Entry)'] == \" \"]\n",
    "\n",
    "\n",
    "\"\"\"\n",
    "How many clients are receiving monthly income at time of entry vs. how many are receiving income at time exit?\n",
    "What is distribution of number of income sources reported by each client?\n",
    "\n",
    "\n",
    "\"\"\"\n",
    "df_income_entry.head()"
   ]
  },
  {
   "cell_type": "code",
   "execution_count": 141,
   "metadata": {},
   "outputs": [
    {
     "data": {
      "text/plain": [
       "(2220,)"
      ]
     },
     "execution_count": 141,
     "metadata": {},
     "output_type": "execute_result"
    }
   ],
   "source": [
    "df_income_entry['Client ID'].unique().shape"
   ]
  },
  {
   "cell_type": "code",
   "execution_count": null,
   "metadata": {},
   "outputs": [],
   "source": []
  }
 ],
 "metadata": {
  "kernelspec": {
   "display_name": "Python 3",
   "language": "python",
   "name": "python3"
  },
  "language_info": {
   "codemirror_mode": {
    "name": "ipython",
    "version": 3
   },
   "file_extension": ".py",
   "mimetype": "text/x-python",
   "name": "python",
   "nbconvert_exporter": "python",
   "pygments_lexer": "ipython3",
   "version": "3.7.4"
  }
 },
 "nbformat": 4,
 "nbformat_minor": 2
}
